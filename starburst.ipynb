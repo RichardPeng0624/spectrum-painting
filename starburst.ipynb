{
 "cells": [
  {
   "cell_type": "code",
   "execution_count": 1,
   "metadata": {},
   "outputs": [],
   "source": [
    "import os\n",
    "import shutil\n",
    "from astropy.io import fits\n",
    "import pandas as pd\n",
    "import numpy as np\n",
    "from tqdm import tqdm"
   ]
  },
  {
   "cell_type": "code",
   "execution_count": 5,
   "metadata": {},
   "outputs": [
    {
     "name": "stderr",
     "output_type": "stream",
     "text": [
      "100%|██████████| 91619/91619 [14:36<00:00, 104.54it/s] \n"
     ]
    }
   ],
   "source": [
    "data=pd.read_csv('/media/richard/Backup Plus/314kpair_DR16_final_Z_0.4_v12.5_in_seyfert_90k.csv',low_memory=False)\n",
    "for i in tqdm(data.index):\n",
    "    if os.path.exists('/media/richard/Backup Plus/sdss_16_pair/%s'%data.specname[i])==True:\n",
    "        if data.SUBCLASS[i]=='STARBURST BROADLINE':\n",
    "            shutil.copy('/media/richard/Backup Plus/sdss_16_pair/%s'%data.specname[i],\\\n",
    "                        '/media/richard/Backup Plus/sdss_16_starburst/starburst_broadline/%s'%data.specname[i])\n",
    "        elif data.SUBCLASS[i]=='STARBURST':\n",
    "            shutil.copy('/media/richard/Backup Plus/sdss_16_pair/%s'%data.specname[i],\\\n",
    "                        '/media/richard/Backup Plus/sdss_16_starburst/%s'%data.specname[i])\n",
    "    else:\n",
    "        print('fits not exists:%s'%data.specname[i])"
   ]
  },
  {
   "cell_type": "code",
   "execution_count": 8,
   "metadata": {},
   "outputs": [
    {
     "name": "stderr",
     "output_type": "stream",
     "text": [
      "100%|██████████| 91619/91619 [03:54<00:00, 391.41it/s] \n"
     ]
    }
   ],
   "source": [
    "data=pd.read_csv('/media/richard/Backup Plus/314kpair_DR16_final_Z_0.4_v12.5_in_seyfert_90k.csv',low_memory=False)\n",
    "for i in tqdm(data.index):\n",
    "    if os.path.exists('/media/richard/Backup Plus/test0505_not_seyfert_77736spec/%s.png'%data.GroupID[i])==True:\n",
    "        if data.SUBCLASS[i]=='STARBURST BROADLINE':\n",
    "            shutil.copy('/media/richard/Backup Plus/test0505_not_seyfert_77736spec/%s.png'%data.GroupID[i],\\\n",
    "                        '/media/richard/Backup Plus/sdss_16_starburst/starburst_broadline/%s.png'%data.GroupID[i])\n",
    "        elif data.SUBCLASS[i]=='STARBURST':\n",
    "            shutil.copy('/media/richard/Backup Plus/test0505_not_seyfert_77736spec/%s.png'%data.GroupID[i],\\\n",
    "                        '/media/richard/Backup Plus/sdss_16_starburst/%s.png'%data.GroupID[i])\n",
    "    else:\n",
    "        print('fits not exists:%s'%data.specname[i])"
   ]
  },
  {
   "cell_type": "code",
   "execution_count": 2,
   "metadata": {},
   "outputs": [
    {
     "name": "stderr",
     "output_type": "stream",
     "text": [
      "100%|██████████| 91619/91619 [4:27:41<00:00,  5.70it/s]   \n"
     ]
    }
   ],
   "source": [
    "data=pd.read_csv('/media/richard/Backup Plus/314kpair_DR16_final_Z_0.4_v12.5_in_seyfert_90k.csv',low_memory=False)\n",
    "for i in tqdm(data.index):\n",
    "    if os.path.exists('/media/richard/Backup Plus/sdss_16_pair/%s'%data.specname[i])==True:\n",
    "        shutil.copy('/media/richard/Backup Plus/sdss_16_pair/%s'%data.specname[i],\\\n",
    "                    '/media/richard/Backup Plus/AGN_origin/spectrum/%s'%data.specname[i])\n",
    "    else:\n",
    "        print('fits not exists:%s'%data.specname[i])"
   ]
  },
  {
   "cell_type": "code",
   "execution_count": null,
   "metadata": {},
   "outputs": [],
   "source": []
  }
 ],
 "metadata": {
  "kernelspec": {
   "display_name": "Python 3",
   "language": "python",
   "name": "python3"
  },
  "language_info": {
   "codemirror_mode": {
    "name": "ipython",
    "version": 3
   },
   "file_extension": ".py",
   "mimetype": "text/x-python",
   "name": "python",
   "nbconvert_exporter": "python",
   "pygments_lexer": "ipython3",
   "version": "3.8.5"
  }
 },
 "nbformat": 4,
 "nbformat_minor": 4
}
