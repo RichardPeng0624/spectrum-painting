{
 "cells": [
  {
   "cell_type": "markdown",
   "metadata": {},
   "source": [
    "# 1.画大图+小图"
   ]
  },
  {
   "cell_type": "code",
   "execution_count": 3,
   "metadata": {},
   "outputs": [
    {
     "ename": "NameError",
     "evalue": "name 'pd' is not defined",
     "output_type": "error",
     "traceback": [
      "\u001b[0;31m---------------------------------------------------------------------------\u001b[0m",
      "\u001b[0;31mNameError\u001b[0m                                 Traceback (most recent call last)",
      "\u001b[0;32m<ipython-input-3-8158540aa199>\u001b[0m in \u001b[0;36m<module>\u001b[0;34m\u001b[0m\n\u001b[1;32m      1\u001b[0m \u001b[0;31m#skip=range(1,6000)\u001b[0m\u001b[0;34m\u001b[0m\u001b[0;34m\u001b[0m\u001b[0;34m\u001b[0m\u001b[0m\n\u001b[1;32m      2\u001b[0m \u001b[0;31m#n=1000\u001b[0m\u001b[0;34m\u001b[0m\u001b[0;34m\u001b[0m\u001b[0;34m\u001b[0m\u001b[0m\n\u001b[0;32m----> 3\u001b[0;31m \u001b[0mdata\u001b[0m\u001b[0;34m=\u001b[0m\u001b[0mpd\u001b[0m\u001b[0;34m.\u001b[0m\u001b[0mread_csv\u001b[0m\u001b[0;34m(\u001b[0m\u001b[0;34m'/media/richard/Backup Plus/314kpair_DR16_final_Z_0.4_v9.5_star_fo_in_pair_pairs681.csv'\u001b[0m\u001b[0;34m,\u001b[0m\u001b[0mchunksize\u001b[0m\u001b[0;34m=\u001b[0m\u001b[0;36m2\u001b[0m\u001b[0;34m,\u001b[0m\u001b[0mnrows\u001b[0m\u001b[0;34m=\u001b[0m\u001b[0;36m10\u001b[0m\u001b[0;34m)\u001b[0m\u001b[0;34m\u001b[0m\u001b[0;34m\u001b[0m\u001b[0m\n\u001b[0m\u001b[1;32m      4\u001b[0m \u001b[0mmpl\u001b[0m\u001b[0;34m.\u001b[0m\u001b[0mrcParams\u001b[0m\u001b[0;34m[\u001b[0m\u001b[0;34m'agg.path.chunksize'\u001b[0m\u001b[0;34m]\u001b[0m\u001b[0;34m=\u001b[0m\u001b[0;36m100\u001b[0m\u001b[0;34m\u001b[0m\u001b[0;34m\u001b[0m\u001b[0m\n\u001b[1;32m      5\u001b[0m \u001b[0mmpl\u001b[0m\u001b[0;34m.\u001b[0m\u001b[0mrcParams\u001b[0m\u001b[0;34m[\u001b[0m\u001b[0;34m'font.serif'\u001b[0m\u001b[0;34m]\u001b[0m\u001b[0;34m=\u001b[0m\u001b[0;34m'Times New Roman'\u001b[0m\u001b[0;34m\u001b[0m\u001b[0;34m\u001b[0m\u001b[0m\n",
      "\u001b[0;31mNameError\u001b[0m: name 'pd' is not defined"
     ]
    }
   ],
   "source": [
    "#skip=range(1,6000)\n",
    "#n=1000\n",
    "data=pd.read_csv('/media/richard/Backup Plus/314kpair_DR16_final_Z_0.4_v9.5.5_star_fo_in_pair.csv',chunksize=2,nrows=10)\n",
    "mpl.rcParams['agg.path.chunksize']=100\n",
    "mpl.rcParams['font.serif']='Times New Roman'\n",
    "mpl.rc('font',family='Times New Roman')\n",
    "w_all={'NeV]3426':[3425.9],'FeVII]3759':[3758.9],'FeV]3839':[3839.4],'ArXIV]4414':[4412.5],'FeVII]5160':[5159.0],'FeXIV]5304':[5302.9],'FeVI]5335':[5335.2],\\\n",
    "        'FeVI]5426':[5426.6],'Fe VII]5722':[5720.7],'FeVII]6087':[6087.0],'FeX]6375':[6374.5],'ArV]7006':[7005.8],'SXII]7612':[7611.0],'FeXI]7894':[7891.8]}\n",
    "#w_all=pd.DataFrame(data=w_all)\n",
    "win_length=[23,26,29,35,35,36,41,43,47,51,53]\n",
    "for df in data:\n",
    "    with PdfPages('/media/richard/Backup Plus/test0402/test0402_%s.pdf'%str(min(df.GroupID))) as pdf:\n",
    "        for i in tqdm(df.index):\n",
    "            if i!=min(df.index) and df.GroupID[i]==df.GroupID[i-1]:\n",
    "                    continue\n",
    "            cut=df.loc[df.GroupID==df.GroupID[i]]\n",
    "            fig=plt.figure(figsize=(18,15),facecolor='white',frameon=False)\n",
    "            j=0\n",
    "            num=len(cut)\n",
    "            #color_list=np.random.random([num,3])\n",
    "            for m in cut.index:\n",
    "                plt.title('GroupID=%s,GroupSize=%s,redshift=%s'%(df.GroupID[i],df.GroupSize[i],df.Z[i]),fontsize=6)\n",
    "                alist=fits.open('/media/richard/Backup Plus/sdss_16_pair/%s'%str(cut.specname[m]))\n",
    "                spectra=alist[1].data\n",
    "                redshift=cut.Z[i]\n",
    "                ind1 = np.where((spectra['and_mask'] ==0),True,False)#remove bad pixels which fluxes<0\n",
    "                flux=spectra['flux'][ind1]+j*10\n",
    "                lam_no_z=(10**spectra['loglam'])/(redshift+1)\n",
    "                wave=lam_no_z[ind1]\n",
    "                if cut.CL_5_COUNTS[m]>1:\n",
    "                    color_spec='orange'\n",
    "                else:color_spec='black'\n",
    "                ##smoothing complete spectrum\n",
    "                gauss_kernel=Gaussian1DKernel(1)\n",
    "                real_f=interpolate_replace_nans(flux,gauss_kernel)\n",
    "                real_f=convolve(real_f,gauss_kernel)\n",
    "                peak=np.mean(real_f)+40\n",
    "                #ploting\n",
    "                ax2=fig.add_subplot(6,3,12)\n",
    "                ind3=np.where((wave>=4900)&(wave<=5100))\n",
    "                ax2.plot(wave[ind3],flux[ind3],color=color_spec,linewidth=1)\n",
    "                plt.text([4959,5007],peak-4,r'$OIII]$',fontsize=10,color='black')\n",
    "                plt.xlabel(r'$Wavelength (\\AA)$',fontsize=10)\n",
    "                plt.ylabel(r'$Flux$',fontsize=10)\n",
    "                plt.xticks(fontsize=10)\n",
    "                plt.yticks(fontsize=10)\n",
    "                \n",
    "                nu=1\n",
    "                for ss in w_all:\n",
    "                    ax1=fig.add_subplot(6,3,nu)\n",
    "                    ind2=np.where((wave>(w_all[ss]-30))&(wave<(w_all[ss]+30)),True,False)\n",
    "                    #ind2=np.where((wave>=np.rint(w_all[ss]-win_length[nu-1]/2))&(wave<=np.rint(w_all[ss]+win_length[nu-1]/2)),True,False)\n",
    "                    ax1.plot(wave[ind2],flux[ind2],color=color_spec,linewidth=1)\n",
    "                    linecenter=np.array([w_all[ss],w_all[ss]])\n",
    "                    if len(cut[cut['STD%s'%ss[-4:]]>5])>0:\n",
    "                        co='black'\n",
    "                    else:\n",
    "                        co='gray'\n",
    "                    if m==max(cut.index):\n",
    "                        ax1.plot(linecenter,[peak,peak-3],'-',color='red')\n",
    "                        plt.text(np.rint(linecenter[0]),peak-4,r'$%s$'%ss,fontsize=10,color=co)\n",
    "                        plt.ylim(0,peak+2)\n",
    "                        plt.xlabel(r'$Wavelength (\\AA)$',fontsize=10)\n",
    "                        plt.ylabel(r'$Flux$',fontsize=10)\n",
    "                        plt.xticks(fontsize=10)\n",
    "                        plt.yticks(fontsize=10)\n",
    "                    nu+=1\n",
    "                #complete spectrum\n",
    "                ax10=fig.add_subplot(6,3,(13,18))\n",
    "                ax10.plot(lam_no_z,spectra['flux'],color='lightgray',linewidth=0.2,alpha=0.8)            \n",
    "                ax10.plot(wave,real_f,color=color_spec,linewidth=0.3,alpha=0.9,label='%s'%str(cut.specname[m]))\n",
    "                #set axis parameters\n",
    "                plt.xlim(min(wave),max(wave))\n",
    "                plt.ylim(0,peak)\n",
    "                plt.xlabel(r'$Wavelength (\\AA)$',fontsize=14)\n",
    "                plt.ylabel(r'$Flux\\ Counts$',fontsize=14)\n",
    "                plt.xticks(fontsize=14)\n",
    "                plt.yticks(fontsize=14)\n",
    "                #text\n",
    "                if m==max(cut.index):\n",
    "                    for mm in w_all:\n",
    "                        plt.axvline(x=w_all[mm],c='lightgray',ls='--',linewidth=0.1)\n",
    "                        if len(cut[cut['STD%s'%ss[-4:]]>5])>0:\n",
    "                            plt.text(np.rint(w_all[mm]),peak-10,r'$%s$'%mm,fontsize=8,rotation=90,color='red')\n",
    "                        else:\n",
    "                            plt.text(np.rint(w_all[mm]),peak-10,r'$%s$'%mm,fontsize=8,rotation=90,color='black')\n",
    "                j+=1\n",
    "                print(j)\n",
    "            #hours = mdates.SecondLocator(bysecond=[0,30])\n",
    "            #t_fmt = mdates.DateFormatter('%H:%M:%S')\n",
    "            #plt.gca().xaxis.set_major_locator(hours)\n",
    "            #plt.gca().xaxis.set_major_formatter(t_fmt)\n",
    "            plt.legend(loc='upper right')\n",
    "            plt.subplots_adjust(wspace=0.3,hspace=0.3)\n",
    "            pdf.savefig(fig)\n",
    "            plt.savefig('/media/richard/Backup Plus/test0402/%s.png'%str(df.GroupID[i]))\n",
    "            #plt.show()\n",
    "            plt.close()"
   ]
  },
  {
   "cell_type": "markdown",
   "metadata": {},
   "source": [
    "# 2. 画全光谱大图（eps+png）+CL小图+天光图+Firefly continuum fitting"
   ]
  },
  {
   "cell_type": "code",
   "execution_count": 3,
   "metadata": {},
   "outputs": [],
   "source": [
    "import numpy as np\n",
    "import matplotlib as mpl\n",
    "import matplotlib.pyplot as plt\n",
    "import pandas as pd\n",
    "from astropy.io import fits\n",
    "from scipy.optimize import curve_fit\n",
    "from astropy.convolution import convolve,Gaussian1DKernel,interpolate_replace_nans\n",
    "from matplotlib.backends.backend_pdf import PdfPages\n",
    "import sys\n",
    "import warnings\n",
    "import matplotlib.cbook\n",
    "from tqdm import tqdm\n",
    "import os\n",
    "os.environ[\"KMP_DUPLICATE_LIB_OK\"]=\"TRUE\"\n",
    "#import matplotlib.dates as mdates\n",
    "#import io\n",
    "sys.setrecursionlimit(1000000)\n",
    "path='/media/richard/Backup Plus/sdss_16_pair/'\n",
    "warnings.filterwarnings(\"ignore\",category=matplotlib.cbook.mplDeprecation)"
   ]
  },
  {
   "cell_type": "code",
   "execution_count": 4,
   "metadata": {
    "scrolled": true
   },
   "outputs": [],
   "source": [
    "df=pd.read_csv('/media/richard/Backup Plus/314kpair_DR16_final_Z_0.4_v10.5_star_fo_in_pair_pairs4022.csv')\n",
    "w_all={'NeV]3426':[3425.9],'FeVII]3759':[3758.9],'FeV]3839':[3839.4],'ArXIV]4414':[4412.5],'FeVII]5160':[5159.0],'FeXIV]5304':[5302.9],'FeVI]5335':[5335.2],\\\n",
    "        'FeVI]5426':[5426.6],'Fe VII]5722':[5720.7],'FeVII]6087':[6087.0],'FeX]6375':[6374.5],'ArV]7006':[7005.8],'SXII]7612':[7611.0],'FeXI]7894':[7891.8]}"
   ]
  },
  {
   "cell_type": "code",
   "execution_count": 5,
   "metadata": {
    "scrolled": false
   },
   "outputs": [
    {
     "name": "stderr",
     "output_type": "stream",
     "text": [
      "  7%|▋         | 85/1144 [01:13<13:38,  1.29it/s]"
     ]
    },
    {
     "name": "stdout",
     "output_type": "stream",
     "text": [
      "failed:spec-0960-52466-0626.fits\n"
     ]
    },
    {
     "name": "stderr",
     "output_type": "stream",
     "text": [
      " 54%|█████▎    | 614/1144 [08:46<08:09,  1.08it/s]"
     ]
    },
    {
     "name": "stdout",
     "output_type": "stream",
     "text": [
      "spec-1379-53063-0107.fits does not exist\n"
     ]
    },
    {
     "name": "stderr",
     "output_type": "stream",
     "text": [
      "\r",
      " 54%|█████▍    | 616/1144 [08:48<07:40,  1.15it/s]"
     ]
    },
    {
     "name": "stdout",
     "output_type": "stream",
     "text": [
      "spec-1379-53063-0124.fits does not exist\n"
     ]
    },
    {
     "name": "stderr",
     "output_type": "stream",
     "text": [
      "\r",
      " 54%|█████▍    | 618/1144 [08:49<07:15,  1.21it/s]"
     ]
    },
    {
     "name": "stdout",
     "output_type": "stream",
     "text": [
      "spec-1379-53063-0233.fits does not exist\n"
     ]
    },
    {
     "name": "stderr",
     "output_type": "stream",
     "text": [
      "\r",
      " 54%|█████▍    | 620/1144 [08:51<07:00,  1.25it/s]"
     ]
    },
    {
     "name": "stdout",
     "output_type": "stream",
     "text": [
      "spec-1379-53063-0331.fits does not exist\n"
     ]
    },
    {
     "name": "stderr",
     "output_type": "stream",
     "text": [
      "\r",
      " 54%|█████▍    | 622/1144 [08:52<06:49,  1.27it/s]"
     ]
    },
    {
     "name": "stdout",
     "output_type": "stream",
     "text": [
      "spec-1379-53063-0348.fits does not exist\n"
     ]
    },
    {
     "name": "stderr",
     "output_type": "stream",
     "text": [
      "\r",
      " 55%|█████▍    | 624/1144 [08:54<06:36,  1.31it/s]"
     ]
    },
    {
     "name": "stdout",
     "output_type": "stream",
     "text": [
      "spec-1379-53063-0441.fits does not exist\n"
     ]
    },
    {
     "name": "stderr",
     "output_type": "stream",
     "text": [
      "\r",
      " 55%|█████▍    | 626/1144 [08:55<06:30,  1.33it/s]"
     ]
    },
    {
     "name": "stdout",
     "output_type": "stream",
     "text": [
      "spec-1379-53063-0447.fits does not exist\n"
     ]
    },
    {
     "name": "stderr",
     "output_type": "stream",
     "text": [
      "\r",
      " 55%|█████▍    | 628/1144 [08:56<06:29,  1.32it/s]"
     ]
    },
    {
     "name": "stdout",
     "output_type": "stream",
     "text": [
      "spec-1379-53063-0630.fits does not exist\n"
     ]
    },
    {
     "name": "stderr",
     "output_type": "stream",
     "text": [
      " 86%|████████▌ | 980/1144 [14:14<03:00,  1.10s/it]"
     ]
    },
    {
     "name": "stdout",
     "output_type": "stream",
     "text": [
      "failed:spec-2360-53728-0035.fits\n"
     ]
    },
    {
     "name": "stderr",
     "output_type": "stream",
     "text": [
      "100%|██████████| 1144/1144 [16:24<00:00,  1.16it/s]\n"
     ]
    }
   ],
   "source": [
    "%matplotlib inline\n",
    "df=df[2878:]\n",
    "#mpl.rcParams['agg.path.chunksize']=50\n",
    "mpl.rcParams['font.serif']='Times New Roman'\n",
    "mpl.rc('font',family='Times New Roman')\n",
    "#for df in data:\n",
    "for i in tqdm(df.index):\n",
    "    if i!=min(df.index) and df.GroupID[i]==df.GroupID[i-1]:\n",
    "        continue\n",
    "    cut=df.loc[df.GroupID==df.GroupID[i]]\n",
    "    fig=plt.subplots(nrows=9,ncols=5,facecolor='white',figsize=(6,10))\n",
    "    plt.tight_layout(0.7)\n",
    "    #num=len(cut)\n",
    "    #color_list=np.random.random([num,3])\n",
    "    color_list=['darkblue','steelblue','blueviolet']\n",
    "    j=0\n",
    "    m=0\n",
    "    for m in cut.index:\n",
    "        #read original fits\n",
    "        alist=fits.open('/media/richard/Backup Plus/sdss_16_pair/%s'%str(cut.specname[m]))\n",
    "        spectra=alist[1].data\n",
    "        spectra_cha=alist[2].data\n",
    "        fit_spec=alist[3].data\n",
    "        redshift=cut.Z[i]\n",
    "        z_err=spectra_cha.Z_ERR\n",
    "        ind1 = np.where((spectra['and_mask'] ==0),True,False)#remove bad pixels\n",
    "        flux=spectra['flux'][ind1]+j*15\n",
    "        lam_no_z=(10**spectra['loglam'])/(redshift+1)\n",
    "        wave=(10**spectra['loglam'][ind1])/(redshift+1)\n",
    "        #read firefly fits\n",
    "        if os.path.exists(\"/media/richard/Backup Plus/firefly_release/run/output/SpFly-%s\"%cut.specname[m])==True:\n",
    "            hdu=fits.open(\"/media/richard/Backup Plus/firefly_release/run/output/SpFly-%s\"%cut.specname[m])\n",
    "        else:print(\"%s does not exist\"%cut.specname[m])\n",
    "        da=hdu[1].data\n",
    "        ##smoothing complete spectrum\n",
    "        gauss_kernel=Gaussian1DKernel(1)\n",
    "        real_f=interpolate_replace_nans(flux,gauss_kernel)\n",
    "        if len(real_f)==0:\n",
    "            print(\"failed:%s\"%cut.specname[m])\n",
    "            continue\n",
    "        real_f=convolve(real_f,gauss_kernel)\n",
    "        peak=np.mean(real_f)+15\n",
    "        if len(flux[np.where(flux>peak)])>50:\n",
    "            peak=np.max(real_f)\n",
    "        ax10=plt.subplot(9,5,(1,20))\n",
    "        if cut.CL_1_COUNTS[m]>1:\n",
    "            cc='red'\n",
    "        else:cc='orange'\n",
    "        ax10.plot(lam_no_z,spectra['flux']+j*15,color='lightgray',linewidth=0.2,alpha=0.8)\n",
    "        ax10.plot(da.wavelength,da.firefly_model+j*15,color=cc,linewidth=0.7,label='%s'%cut.specname[m])\n",
    "        ax10.plot(wave,real_f,color='black',linewidth=0.2,alpha=0.9)\n",
    "        ax20=plt.subplot(9,5,(21,30))\n",
    "        ax20.plot(lam_no_z,spectra['sky']+j*10,color='purple',linewidth=0.2,alpha=0.9)\n",
    "        #set axis parameters\n",
    "        ax10.set_xlim(min(wave),max(wave))\n",
    "        ax10.set_ylim(0,peak)\n",
    "        ax20.set_xlim(min(wave),max(wave))\n",
    "        ax20.set_ylim(0,300)\n",
    "        ax10.tick_params(labelsize=5)\n",
    "        ax20.tick_params(labelsize=5)\n",
    "        ax10.set_title('GroupID=%s,GroupSize=%s,redshift=%s'%(df.GroupID[i],df.GroupSize[i],df.Z[i]),fontsize=6,loc='center')\n",
    "        #text\n",
    "        if m==max(cut.index):\n",
    "            for ss in w_all:\n",
    "                ax10.axvline(x=w_all[ss],c='blue',ls='--',linewidth=0.1,alpha=0.8)\n",
    "                ax20.axvline(x=w_all[ss],c='blue',ls='--',linewidth=0.1,alpha=0.8)\n",
    "                if len(cut[cut['STD%s'%ss[-4:]]>1])>0:\n",
    "                    ax10.text(np.rint(w_all[ss]),peak-5,r'$%s$'%ss,fontsize=3,rotation=90,color='red')\n",
    "                else:\n",
    "                    ax10.text(np.rint(w_all[ss]),peak-5,r'$%s$'%ss,fontsize=3,rotation=90,color='black')\n",
    "            ax10.axvline(x=fit_spec['LINEWAVE'][17],c='blue',ls='--',linewidth=0.1,alpha=0.9)\n",
    "            ax10.text(5008,peak-5,r'$OIII]5007$',fontsize=4,rotation=90,color='blue')\n",
    "            ax20.axvline(x=fit_spec['LINEWAVE'][17],c='blue',ls='--',linewidth=0.1,alpha=0.9)\n",
    "            ax10.axvline(x=fit_spec['LINEWAVE'][24],c='blue',ls='--',linewidth=0.1,alpha=0.9)\n",
    "            ax10.text(6565,peak-5,r'$Ha$',fontsize=5,rotation=90,color='blue')\n",
    "            ax20.axvline(x=fit_spec['LINEWAVE'][24],c='blue',ls='--',linewidth=0.1,alpha=0.9)\n",
    "            ax20.set_xlabel(r'$Wavelength (\\AA)$',fontsize=4)\n",
    "            ax10.set_ylabel(r'$Flux$',fontsize=6)\n",
    "            ax10.set_xticks([])\n",
    "        #small figures\n",
    "        k=31\n",
    "        for mm in w_all:\n",
    "            ax_s=plt.subplot(9,5,k)\n",
    "            MIN=float(np.float32(w_all[mm])-100)\n",
    "            MAX=float(np.float32(w_all[mm])+100)\n",
    "            ind2=np.where((wave>=MIN)&(wave<=MAX),True,False)\n",
    "            ax_s.plot(wave[ind2],real_f[ind2],color='black',linewidth=0.5,alpha=1)\n",
    "            ax_s.set_xlim(MIN,MAX)\n",
    "            if m==max(cut.index):\n",
    "                #ax_s.text(np.rint(w_all[mm]),peak-10,r'$%s$'%mm,fontsize=3,rotation=90,color='blue')\n",
    "                if len(wave[ind2])!=0:\n",
    "                    z_err_fit=max(cut.Z)-min(cut.Z)\n",
    "                    lamba_1=((redshift+1)*np.float32(w_all[mm]))/(redshift+1+z_err+z_err_fit)\n",
    "                    lamba_2=((redshift+1)*np.float32(w_all[mm]))/(redshift+1-z_err-z_err_fit)\n",
    "                    x=[lamba_1,lamba_1,lamba_2,lamba_2]\n",
    "                    y=[0,peak,peak,0]\n",
    "                    ax_s.fill(x,y,facecolor='lightblue',alpha=0.7)\n",
    "                ax_s.axvline(x=w_all[mm],c='gray',ls='--',linewidth=0.1,alpha=1)\n",
    "                ax_s.set_ylim(0,peak-7)\n",
    "            ax_s.tick_params(labelsize=5)\n",
    "            k+=1\n",
    "        ax_o=plt.subplot(9,5,45)\n",
    "        ind3=np.where((wave>4900)&(wave<5050),True,False)\n",
    "        ax_o.plot(wave[ind3],real_f[ind3],color='black',linewidth=0.5,alpha=1)\n",
    "        ax_o.set_xlim(4900,5050)\n",
    "        #if m==max(cut.index):\n",
    "            #ax_o.axvline(x=5007,c='blue',ls='--',linewidth=0.1,alpha=0.8)\n",
    "            #ax_o.text(np.rint(w_all[mm]),peak-10,r'$OIII]5007$',fontsize=5,rotation=90,color='blue')\n",
    "        ax_o.set_ylim(0,peak)\n",
    "        ax_o.tick_params(labelsize=3)                \n",
    "        '''plt.axvline(x=4414,c='lightgray',ls='--',linewidth=0.6)\n",
    "        plt.text(4414,peak-15,r'$[ArXIV]4414$',fontsize=8,rotation=90)\n",
    "\n",
    "        plt.axvline(x=5304,c='lightgray',ls='--',linewidth=0.6)\n",
    "        plt.text(5304,peak-15,r'$[FeXIV]5304$',fontsize=8,rotation=90)\n",
    "\n",
    "        plt.axvline(x=5335,c='lightgray',ls='--',linewidth=0.6)\n",
    "        plt.text(5335,peak-15,r'$[FeVI]5335$',fontsize=8,rotation=90)\n",
    "\n",
    "        plt.axvline(x=5426,c='lightgray',ls='--',linewidth=0.6)\n",
    "        plt.text(5426,peak-15,r'$[FeVI]5426$',fontsize=8,rotation=90)\n",
    "\n",
    "        plt.axvline(x=6087,c='lightgray',ls='--',linewidth=0.6)\n",
    "        plt.text(6087,peak-15,r'$[FeVII]6087$',fontsize=8,rotation=90)\n",
    "\n",
    "        plt.axvline(x=6375,c='lightgray',ls='--',linewidth=0.6)\n",
    "        plt.text(6375,peak-15,r'$[FeX&OI]6375$',fontsize=8,rotation=90)\n",
    "\n",
    "        plt.axvline(x=3426,c='lightgray',ls='--',linewidth=0.6)\n",
    "        plt.text(3426,peak-15,r'$[NeV]3426$',fontsize=8,rotation=90)\n",
    "\n",
    "        plt.axvline(x=7006,c='lightgray',ls='--',linewidth=0.6)\n",
    "        plt.text(7006,peak-15,r'$[ArV]7006$',fontsize=8,rotation=90)\n",
    "\n",
    "        plt.axvline(x=7612,c='lightgray',ls='--',linewidth=0.6)\n",
    "        plt.text(7612,peak-15,r'$[SXII]7612$',fontsize=8,rotation=90)\n",
    "\n",
    "        plt.axvline(x=7894,c='lightgray',ls='--',linewidth=0.6)\n",
    "        plt.text(7894,peak-15,r'$[FeXI]7894$',fontsize=8,rotation=90)\n",
    "            '''\n",
    "        j+=1\n",
    "    #set subplots and legends\n",
    "    ax10.legend(loc='upper left',fontsize=5)\n",
    "    #ax20.legend(loc='upper left',fontsize=5)\n",
    "    plt.subplots_adjust(wspace=0.2,hspace=0.4)        \n",
    "    plt.tick_params(labelsize=5)\n",
    "    #plt.savefig('/media/richard/Backup Plus/test0402/whole/whole_%s.eps'%str(df.GroupID[i]))\n",
    "    plt.savefig('/media/richard/Backup Plus/test04_con_15_cl_2/whole_%s.png'%str(df.GroupID[i]),dpi=300)\n",
    "    plt.close()"
   ]
  },
  {
   "cell_type": "code",
   "execution_count": 17,
   "metadata": {},
   "outputs": [
    {
     "data": {
      "text/plain": [
       "array([7896.3765], dtype=float32)"
      ]
     },
     "execution_count": 17,
     "metadata": {},
     "output_type": "execute_result"
    }
   ],
   "source": [
    "lamba_2"
   ]
  },
  {
   "cell_type": "markdown",
   "metadata": {},
   "source": [
    "# 3. 使用pPXF进行拟合(stellar population采用MILES数据)"
   ]
  },
  {
   "cell_type": "code",
   "execution_count": 58,
   "metadata": {},
   "outputs": [
    {
     "name": "stdout",
     "output_type": "stream",
     "text": [
      "mjd: 55975\n",
      "redshift: 0.0035\n",
      "flux normalized by: 246.88332\n",
      "Emission lines included in gas templates:\n",
      "['Hdelta' 'Hgamma' 'Hbeta' 'Halpha' '[OII]3726' '[OII]3729' '[SII]6716'\n",
      " '[SII]6731' '[OIII]5007_d' '[OI]6300_d' '[NII]6583_d']\n",
      " Best Fit:       Vel     sigma        h3        h4\n",
      " comp.  0:         9        56     0.291     0.286\n",
      " comp.  1:        38        99    -0.013     0.012\n",
      " comp.  2:        29        99    -0.005     0.045\n",
      "chi2/DOF: 9.014e-05; degree = -1; mdegree = 10\n",
      "method = capfit; Jac calls: 7; Func calls: 163; Status: 2\n",
      "linear_method = lsq_box; Nonzero Templates (>0.1%):  11 / 161\n",
      "+++++++++++++++++++++++++++++++++++++++++++++++++++++++++\n",
      "gas_component   name       flux       err      V     sig\n",
      "+++++++++++++++++++++++++++++++++++++++++++++++++++++++++\n",
      "Comp:  1        Hdelta      4.037       23.      38    99\n",
      "Comp:  1        Hgamma      5.434       19.      38    99\n",
      "Comp:  1         Hbeta      13.91       16.      38    99\n",
      "Comp:  1        Halpha      46.78       14.      38    99\n",
      "Comp:  2     [OII]3726      7.923   1.0e+02      29    99\n",
      "Comp:  2     [OII]3729      8.198       98.      29    99\n",
      "Comp:  2     [SII]6716      7.298       7.2      29    99\n",
      "Comp:  2     [SII]6731      5.827       6.9      29    99\n",
      "Comp:  2  [OIII]5007_d      10.76       17.      29    99\n",
      "Comp:  2    [OI]6300_d      1.899       9.0      29    99\n",
      "Comp:  2   [NII]6583_d      28.39       13.      29    99\n",
      "---------------------------------------------------------\n",
      "Desired Delta Chi^2: 77.86\n",
      "Current Delta Chi^2: -3031\n",
      "Weighted <logAge> [yr]: 9.76\n",
      "Weighted <[M/H]>: -0.464\n",
      "M/L_r: 1.971\n",
      "M/L_r: 1.971\n",
      "L r band (erg/s): 41.51\n",
      "Log Stellar mass (solar mass) [42941072.4519982]\n",
      "mass frac tion below 10^8 yr: 0\n",
      "SFR (M_sun/yr):  [0.]\n",
      "SFR_err:  [0.]\n",
      "OIII/Ha:\n"
     ]
    },
    {
     "data": {
      "image/png": "[encoded data removed]",
      "text/plain": [
       "<Figure size 1008x720 with 3 Axes>"
      ]
     },
     "metadata": {
      "needs_background": "light"
     },
     "output_type": "display_data"
    }
   ],
   "source": [
    "%matplotlib inline\n",
    "# %load ppxf_example_population_gas_sdss.py\n",
    "#!/usr/bin/env python\n",
    "##############################################################################\n",
    "#\n",
    "# Usage example for the procedure PPXF, which implements the\n",
    "# Penalized Pixel-Fitting (pPXF) method originally described in\n",
    "# Cappellari M., & Emsellem E., 2004, PASP, 116, 138\n",
    "#     http://adsabs.harvard.edu/abs/2004PASP..116..138C\n",
    "# and upgraded in Cappellari M., 2017, MNRAS, 466, 798\n",
    "#     http://adsabs.harvard.edu/abs/2017MNRAS.466..798C\n",
    "#\n",
    "# This example shows how to study stellar population and include gas emission\n",
    "# lines as templates instead of masking them using the GOODPIXELS keyword.\n",
    "#\n",
    "\n",
    "\n",
    "##############################################################################\n",
    "\n",
    "\n",
    "\n",
    "from astropy.cosmology import FlatLambdaCDM\n",
    "from os import path\n",
    "import glob, os\n",
    "import time\n",
    "import numpy as np\n",
    "import matplotlib.pyplot as plt\n",
    "from astropy.io import fits\n",
    "\n",
    "import ppxf as ppxf_package\n",
    "from ppxf.ppxf import ppxf\n",
    "import ppxf.ppxf_util as util\n",
    "import ppxf.miles_util as lib\n",
    "\n",
    "##############################################################################\n",
    "def flux2L(flux,z):\n",
    "    \"\"\"Transfer flux to luminoity assuming a flat Universe\"\"\"\n",
    "    cosmo = FlatLambdaCDM(H0=70, Om0=0.3)\n",
    "    DL = cosmo.luminosity_distance(z).value*10**6*3.08*10**18 # unit cm\n",
    "    L = flux*1.e-17*4.*np.pi*DL**2   #erg/s/A\n",
    "    return L\n",
    "\n",
    "def L_conti(wave,flux,z):\n",
    "    return np.asarray([np.log10(5100*flux2L(flux[np.where( abs(wave - 5100.) < 5.,True,False)].mean(),z) )])\n",
    "    \n",
    "\n",
    "\n",
    "tie_balmer=False\n",
    "limit_doublets=False\n",
    "ppxf_dir = path.dirname(path.realpath(ppxf_package.__file__))\n",
    "\n",
    "# Read SDSS DR8 galaxy spectrum taken from here http://www.sdss3.org/dr8/\n",
    "# The spectrum is *already* log rebinned by the SDSS DR8\n",
    "# pipeline and log_rebin should not be used in this case.\n",
    "#\n",
    "#file = ppxf_dir + '/spectra/NGC3522_SDSS_DR8.fits'\n",
    "\n",
    "mass_frac_all = np.array([])\n",
    "ml_all = np.array([])\n",
    "L_all = np.array([])\n",
    "#for i in zip(glob.glob('/home/richard/spec-55976-F5597612_sp08-188.fits.gz'),\\\n",
    "                #range(10),['0805+2818a','0805+2818b','0907+5203a','0907+5203b',\\\n",
    "                    #'1058+3144a','1058+3144b','1330-0036a','1330-0036b','1544+0446a','1544+0446b']):\n",
    "#for i in zip(glob.glob('/Users/legolason/study/otherwork/meicun/data/13b*.fits'),\\\n",
    "#            range(1),['1330-0036b']):\n",
    "\n",
    "    #print '-------------------'+i[2]+'-------------------'\n",
    "hdu = fits.open('/home/richard/spec-55976-F5597612_sp08-188.fits')\n",
    "a = hdu[0].data\n",
    "flux=a[0]\n",
    "wv=a[2]/(1+hdu[0].header['Z'])\n",
    "redshift=hdu[0].header['Z']\n",
    "print ('mjd:',hdu[0].header['mjd'])\n",
    "print ('redshift:',np.round(redshift,4))\n",
    "    \n",
    "wave1 =wv\n",
    "flux1 = flux\n",
    "err1 = 1./np.sqrt(a[1])\n",
    "z = 0.\n",
    "\n",
    "    # Only use the wavelength range in common between galaxy and stellar library.\n",
    "    #\n",
    "mask = np.where( (wave1 > 3541.) & (wave1 < 7409.) & (err1 <100.), True, False)\n",
    "\n",
    "flux = flux1[mask]\n",
    "galaxy = flux/np.median(flux)   # Normalize spectrum to avoid numerical issues\n",
    "factor1=np.median(flux)\n",
    "print ('flux normalized by:', np.median(flux))\n",
    "wave = wave1[mask]\n",
    "err = err1[mask]\n",
    "\n",
    "\n",
    "\n",
    "    # The SDSS wavelengths are in vacuum, while the MILES ones are in air.\n",
    "    # For a rigorous treatment, the SDSS vacuum wavelengths should be\n",
    "    # converted into air wavelengths and the spectra should be resampled.\n",
    "    # To avoid resampling, given that the wavelength dependence of the\n",
    "    # correction is very weak, I approximate it with a constant factor.\n",
    "    #\n",
    "wave *= np.median(util.vac_to_air(wave)/wave)\n",
    "\n",
    "\n",
    "    # The noise level is chosen to give Chi^2/DOF=1 without regularization (REGUL=0).\n",
    "    # A constant noise is not a bad approximation in the fitted wavelength\n",
    "    # range and reduces the noise in the fit.\n",
    "    #\n",
    "    #noise = np.full_like(galaxy, 0.01635)  # Assume constant noise per pixel here\n",
    "noise = err*0.5\n",
    "\n",
    "    # The velocity step was already chosen by the SDSS pipeline\n",
    "    # and we convert it below to km/s\n",
    "    #\n",
    "c = 299792.458  # speed of light in km/s\n",
    "velscale = c*np.log(wave[1]/wave[0])  # eq.(8) of Cappellari (2017)\n",
    "FWHM_gal = 2.76  # SDSS has an approximate instrumental resolution FWHM of 2.76A.\n",
    "\n",
    "    #------------------- Setup templates -----------------------\n",
    "\n",
    "pathname = ppxf_dir + '/miles_models/Mun1.30*.fits'\n",
    "miles = lib.miles(pathname, velscale, FWHM_gal)\n",
    "\n",
    "\n",
    "    # The stellar templates are reshaped below into a 2-dim array with each\n",
    "    # spectrum as a column, however we save the original array dimensions,\n",
    "    # which are needed to specify the regularization dimensions\n",
    "    #\n",
    "reg_dim = miles.templates.shape[1:]\n",
    "stars_templates = miles.templates.reshape(miles.templates.shape[0], -1)\n",
    "\n",
    "    # See the pPXF documentation for the keyword REGUL,\n",
    "regul_err = 0.01  # Desired regularization error\n",
    "\n",
    "    # Construct a set of Gaussian emission line templates.\n",
    "    # Estimate the wavelength fitted range in the rest frame.\n",
    "    #\n",
    "lam_range_gal = np.array([np.min(wave), np.max(wave)])/(1. + z)\n",
    "gas_templates, gas_names, line_wave = util.emission_lines(\n",
    "miles.log_lam_temp, lam_range_gal, FWHM_gal,\n",
    "tie_balmer=tie_balmer, limit_doublets=limit_doublets)\n",
    "\n",
    "    # Combines the stellar and gaseous templates into a single array.\n",
    "    # During the PPXF fit they will be assigned a different kinematic\n",
    "    # COMPONENT value\n",
    "    #\n",
    "\n",
    "templates = np.column_stack([stars_templates, gas_templates])\n",
    "\n",
    "    #-----------------------------------------------------------\n",
    "\n",
    "    # The galaxy and the template spectra do not have the same starting wavelength.\n",
    "    # For this reason an extra velocity shift DV has to be applied to the template\n",
    "    # to fit the galaxy spectrum. We remove this artificial shift by using the\n",
    "    # keyword VSYST in the call to PPXF below, so that all velocities are\n",
    "    # measured with respect to DV. This assume the redshift is negligible.\n",
    "    # In the case of a high-redshift galaxy one should de-redshift its\n",
    "    # wavelength to the rest frame before using the line below as described\n",
    "    # in PPXF_EXAMPLE_KINEMATICS_SAURON and Sec.2.4 of Cappellari (2017)\n",
    "    #\n",
    "c = 299792.458\n",
    "dv = c*(miles.log_lam_temp[0] - np.log(wave[0]))  # eq.(8) of Cappellari (2017)\n",
    "vel = c*np.log(1 + z)   # eq.(8) of Cappellari (2017)\n",
    "start = [vel, 180.]  # (km/s), starting guess for [V, sigma]\n",
    "\n",
    "n_temps = stars_templates.shape[1]\n",
    "n_forbidden = np.sum([\"[\" in a for a in gas_names])  # forbidden lines contain \"[*]\"\n",
    "n_balmer = len(gas_names) - n_forbidden\n",
    "\n",
    "    # Assign component=0 to the stellar templates, component=1 to the Balmer\n",
    "    # gas emission lines templates and component=2 to the forbidden lines.\n",
    "component = [0]*n_temps + [1]*n_balmer + [2]*n_forbidden\n",
    "gas_component = np.array(component) > 0  # gas_component=True for gas templates\n",
    "\n",
    "    # Fit (V, sig, h3, h4) moments=4 for the stars\n",
    "    # and (V, sig) moments=2 for the two gas kinematic components\n",
    "moments = [4, 4, 4]\n",
    "\n",
    "    # Adopt the same starting value for the stars and the two gas components\n",
    "start = [start, start, start]\n",
    "\n",
    "    # If the Balmer lines are tied one should allow for gas reddeining.\n",
    "    # The gas_reddening can be different from the stellar one, if both are fitted.\n",
    "gas_reddening = 0 if tie_balmer else None\n",
    "\n",
    "    # Here the actual fit starts.\n",
    "    #\n",
    "    # IMPORTANT: Ideally one would like not to use any polynomial in the fit\n",
    "    # as the continuum shape contains important information on the population.\n",
    "    # Unfortunately this is often not feasible, due to small calibration\n",
    "    # uncertainties in the spectral shape. To avoid affecting the line strength of\n",
    "    # the spectral features, we exclude additive polynomials (DEGREE=-1) and only use\n",
    "    # multiplicative ones (MDEGREE=10). This is only recommended for population, not\n",
    "    # for kinematic extraction, where additive polynomials are always recommended.\n",
    "    #\n",
    "pp = ppxf(templates, galaxy, noise, velscale, start,\n",
    "              plot=False, moments=moments, degree=-1, mdegree=10, vsyst=dv,\n",
    "              lam=wave, clean=False, regul=1./regul_err, reg_dim=reg_dim,\n",
    "              component=component, gas_component=gas_component,\n",
    "              gas_names=gas_names, gas_reddening=gas_reddening)\n",
    "\n",
    "    # When the two Delta Chi^2 below are the same, the solution\n",
    "    # is the smoothest consistent with the observed spectrum.\n",
    "    #\n",
    "print('Desired Delta Chi^2: %.4g' % np.sqrt(2*galaxy.size))\n",
    "print('Current Delta Chi^2: %.4g' % ((pp.chi2 - 1)*galaxy.size))\n",
    "\n",
    "weights = pp.weights[~gas_component]  # Exclude weights of the gas templates\n",
    "weights = weights.reshape(reg_dim)/weights.sum()  # Normalized\n",
    "\n",
    "miles.mean_age_metal(weights)\n",
    "miles.mass_to_light(weights, band=\"r\")\n",
    "\n",
    "    # Plot fit results for stars and gas.\n",
    "    #plt.clf()\n",
    "#line=np.genfromtxt('/home/richard/study/otherwork/meicun/data_line/line_'+i[2]+'.txt')\n",
    "plt.figure(figsize=(14,10))\n",
    "ax1=plt.subplot(2,2,(1,2))\n",
    "pp.plot()\n",
    "#plt.text(0.05, 0.85,i[2], transform=ax1.transAxes,fontsize=15)\n",
    "\n",
    "plt.subplot(2,2,3)\n",
    "pp.plot()\n",
    "plt.xlim(485,505)\n",
    "plt.subplot(2,2,4)\n",
    "pp.plot()\n",
    "plt.xlim(645,675)\n",
    "\n",
    "\n",
    "L = L_conti(wave,flux,redshift)\n",
    "L_all = np.concatenate([L_all,L])\n",
    "    \n",
    "mass_frac_tmp = np.asarray([np.sum(weights[0:3,:])])\n",
    "mass_frac_tmp_delta =np.asarray([np.sum(weights[0:4,:])-np.sum(weights[0:3,:] )]) \n",
    "mass_frac_all = np.concatenate([mass_frac_all,mass_frac_tmp])\n",
    "    \n",
    "ml_tmp = np.asarray([miles.mass_to_light(weights, band=\"r\")])\n",
    "ml_all = np.concatenate([ml_all,ml_tmp])\n",
    "    \n",
    "    #print L_tmp,mass_frac_all,ml_all\n",
    "print('L r band (erg/s): %.4g' % L)\n",
    "print( 'Log Stellar mass (solar mass)', 10**L/(3.8*10**33)/ml_tmp)\n",
    "print('mass frac tion below 10^8 yr: %.4g' % (mass_frac_tmp))\n",
    "print ('SFR (M_sun/yr): ', (10**L/(3.8*10**33)/ml_tmp*mass_frac_tmp/10**8))\n",
    "print ('SFR_err: ', (10**L/(3.8*10**33)/ml_tmp*mass_frac_tmp_delta/10**8))\n",
    "print('OIII/Ha:',)\n",
    "    \n",
    "    \n",
    "#plt.savefig('/home/richard/spec-55976-F5597612_sp08-188.eps',dpi=300)"
   ]
  },
  {
   "cell_type": "code",
   "execution_count": 6,
   "metadata": {},
   "outputs": [
    {
     "data": {
      "image/png": "[encoded data removed]",
      "text/plain": [
       "<Figure size 432x288 with 1 Axes>"
      ]
     },
     "metadata": {
      "needs_background": "light"
     },
     "output_type": "display_data"
    }
   ],
   "source": []
  },
  {
   "cell_type": "code",
   "execution_count": null,
   "metadata": {},
   "outputs": [],
   "source": []
  }
 ],
 "metadata": {
  "kernelspec": {
   "display_name": "Python 3",
   "language": "python",
   "name": "python3"
  },
  "language_info": {
   "codemirror_mode": {
    "name": "ipython",
    "version": 3
   },
   "file_extension": ".py",
   "mimetype": "text/x-python",
   "name": "python",
   "nbconvert_exporter": "python",
   "pygments_lexer": "ipython3",
   "version": "3.8.5"
  }
 },
 "nbformat": 4,
 "nbformat_minor": 4
}
